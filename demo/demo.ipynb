{
 "cells": [
  {
   "cell_type": "code",
   "execution_count": null,
   "metadata": {},
   "outputs": [],
   "source": [
    "from calculator.config import Config\n",
    "from calculator.report import Report\n",
    "\n",
    "\n",
    "sample_name = ''  # укажите имя образца"
   ]
  },
  {
   "cell_type": "code",
   "execution_count": null,
   "metadata": {},
   "outputs": [],
   "source": [
    "config = Config(\n",
    "    curvature_ref_standart=0.0493,\n",
    "    curvature_flat_standart=0,\n",
    "    thickness_film=0.191,\n",
    "    thickness_substrate=390,\n",
    "    young_module=180.5,\n",
    "    stress_sign=-1,\n",
    ")  # создать объект настроек эксперимента"
   ]
  },
  {
   "cell_type": "code",
   "execution_count": null,
   "metadata": {},
   "outputs": [],
   "source": [
    "report = Report(\n",
    "    sample_name=sample_name,\n",
    "    config=config,\n",
    ")\n",
    "report.create(\n",
    "    verbose=True,  # показывать процесс обработки данных\n",
    ")"
   ]
  }
 ],
 "metadata": {
  "kernelspec": {
   "display_name": "env",
   "language": "python",
   "name": "python3"
  },
  "language_info": {
   "codemirror_mode": {
    "name": "ipython",
    "version": 3
   },
   "file_extension": ".py",
   "mimetype": "text/x-python",
   "name": "python",
   "nbconvert_exporter": "python",
   "pygments_lexer": "ipython3",
   "version": "3.11.6"
  }
 },
 "nbformat": 4,
 "nbformat_minor": 2
}
