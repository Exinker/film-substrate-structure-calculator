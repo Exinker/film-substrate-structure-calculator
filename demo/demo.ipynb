{
 "cells": [
  {
   "cell_type": "code",
   "execution_count": null,
   "metadata": {},
   "outputs": [],
   "source": [
    "from calculator.config import Config, VERSION\n",
    "from calculator.report import Report\n",
    "\n",
    "\n",
    "sample_name = ''  # укажите имя образца"
   ]
  },
  {
   "cell_type": "code",
   "execution_count": null,
   "metadata": {},
   "outputs": [],
   "source": [
    "match VERSION:\n",
    "    case '0.1':\n",
    "        config = Config(\n",
    "            curvature_ref_standart=0.0493,\n",
    "            curvature_flat_standart=0,\n",
    "            thickness_film=0.191,\n",
    "            thickness_substrate=390,\n",
    "            young_module=180.5,\n",
    "            stress_sign=-1,\n",
    "        )  # создать объект настроек эксперимента\n",
    "    case '0.2':\n",
    "        config = Config(\n",
    "            h=827000,\n",
    "            curvature_flat_standart=-0.0074,\n",
    "            thickness_film=1,\n",
    "            thickness_substrate=400,\n",
    "            young_module=180.5,\n",
    "            stress_sign=-1,\n",
    "        )  # создать объект настроек эксперимента"
   ]
  },
  {
   "cell_type": "code",
   "execution_count": null,
   "metadata": {},
   "outputs": [],
   "source": [
    "report = Report.create(\n",
    "    sample_name=sample_name,\n",
    "    config=config,\n",
    "    verbose=True,  # показывать процесс обработки данных\n",
    ")\n",
    "report.publish()"
   ]
  }
 ],
 "metadata": {
  "kernelspec": {
   "display_name": "env",
   "language": "python",
   "name": "python3"
  },
  "language_info": {
   "codemirror_mode": {
    "name": "ipython",
    "version": 3
   },
   "file_extension": ".py",
   "mimetype": "text/x-python",
   "name": "python",
   "nbconvert_exporter": "python",
   "pygments_lexer": "ipython3",
   "version": "3.11.6"
  }
 },
 "nbformat": 4,
 "nbformat_minor": 2
}
