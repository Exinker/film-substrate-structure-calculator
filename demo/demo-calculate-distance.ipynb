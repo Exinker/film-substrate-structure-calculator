{
 "cells": [
  {
   "cell_type": "code",
   "execution_count": 1,
   "metadata": {},
   "outputs": [],
   "source": [
    "from calculator.data import Data\n",
    "from calculator.distance import calculate_distances\n",
    "from calculator.stats import Stats\n"
   ]
  },
  {
   "cell_type": "code",
   "execution_count": 2,
   "metadata": {},
   "outputs": [],
   "source": [
    "data = Data.load(\n",
    "    filedir='../data/test',  # путь до директории с данными\n",
    ")"
   ]
  },
  {
   "cell_type": "code",
   "execution_count": 3,
   "metadata": {},
   "outputs": [
    {
     "name": "stdout",
     "output_type": "stream",
     "text": [
      "[13872.0783144  13853.43421949 13882.8240469  13850.50576547\n",
      " 13881.335749   13861.91424871]\n"
     ]
    }
   ],
   "source": [
    "distances = calculate_distances(\n",
    "    data=data,\n",
    "    # show=True,  # показать графики\n",
    "    # verbose=True,  # показать параметры\n",
    ")\n",
    "\n",
    "print(distances)"
   ]
  },
  {
   "cell_type": "code",
   "execution_count": 4,
   "metadata": {},
   "outputs": [
    {
     "name": "stdout",
     "output_type": "stream",
     "text": [
      "13867.02 \\pm 14.57\n"
     ]
    }
   ],
   "source": [
    "stats = Stats.calculate(distances)  # рассчитать среднее значение с погрешностью\n",
    "\n",
    "print(stats)"
   ]
  },
  {
   "cell_type": "code",
   "execution_count": null,
   "metadata": {},
   "outputs": [],
   "source": []
  }
 ],
 "metadata": {
  "kernelspec": {
   "display_name": "env",
   "language": "python",
   "name": "python3"
  },
  "language_info": {
   "codemirror_mode": {
    "name": "ipython",
    "version": 3
   },
   "file_extension": ".py",
   "mimetype": "text/x-python",
   "name": "python",
   "nbconvert_exporter": "python",
   "pygments_lexer": "ipython3",
   "version": "3.11.6"
  }
 },
 "nbformat": 4,
 "nbformat_minor": 2
}
