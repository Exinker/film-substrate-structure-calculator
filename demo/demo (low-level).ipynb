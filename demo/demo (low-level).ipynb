{
 "cells": [
  {
   "cell_type": "code",
   "execution_count": null,
   "metadata": {},
   "outputs": [],
   "source": [
    "from calculator.config import Config\n",
    "from calculator.curvature import Curvature\n",
    "from calculator.data import Data\n",
    "from calculator.length import Length, LengthMap\n",
    "from calculator.stress import Stress\n",
    "\n",
    "\n",
    "sample_name = ''  # укажите имя образца"
   ]
  },
  {
   "cell_type": "code",
   "execution_count": null,
   "metadata": {},
   "outputs": [],
   "source": [
    "config = Config(\n",
    "    h=827000,\n",
    "    curvature_flat_standart=0,\n",
    "    thickness_film=0.191,\n",
    "    thickness_substrate=390,\n",
    "    young_module=180.5,\n",
    "    stress_sign=-1,\n",
    ")  # создать объект настроек эксперимента"
   ]
  },
  {
   "cell_type": "markdown",
   "metadata": {},
   "source": [
    "## Рассчитать расстояние"
   ]
  },
  {
   "cell_type": "code",
   "execution_count": null,
   "metadata": {},
   "outputs": [],
   "source": [
    "data = Data.load(\n",
    "    sample_name=sample_name,\n",
    "    kind='sample',  # рассчитать данные эксперимента\n",
    ")"
   ]
  },
  {
   "cell_type": "code",
   "execution_count": null,
   "metadata": {},
   "outputs": [],
   "source": [
    "# рассчитать расстояние\n",
    "length = Length.calculate(\n",
    "    data=data,\n",
    "    # show=True,  # показать графики\n",
    "    verbose=True,  # показать параметры\n",
    ")"
   ]
  },
  {
   "cell_type": "code",
   "execution_count": null,
   "metadata": {},
   "outputs": [],
   "source": [
    "print(length)  # вывести рассчитанные расстояния"
   ]
  },
  {
   "cell_type": "code",
   "execution_count": null,
   "metadata": {},
   "outputs": [],
   "source": [
    "print(length.stats)  # вывести статистику"
   ]
  },
  {
   "cell_type": "code",
   "execution_count": null,
   "metadata": {},
   "outputs": [],
   "source": [
    "# показать график\n",
    "length.show(\n",
    "    # info=True,  # вывести информацию на график (статистику)\n",
    ")"
   ]
  },
  {
   "cell_type": "markdown",
   "metadata": {},
   "source": [
    "## Рассчитать расстояния"
   ]
  },
  {
   "cell_type": "code",
   "execution_count": null,
   "metadata": {},
   "outputs": [],
   "source": [
    "length = LengthMap.calculate(\n",
    "    sample_name=sample_name,\n",
    "    verbose=True,  # показать параметры\n",
    ")"
   ]
  },
  {
   "cell_type": "markdown",
   "metadata": {},
   "source": [
    "## Рассчитать кривизну"
   ]
  },
  {
   "cell_type": "code",
   "execution_count": null,
   "metadata": {},
   "outputs": [],
   "source": [
    "curvature = Curvature.calculate(\n",
    "    length=length,\n",
    "    config=config,\n",
    ")\n",
    "\n",
    "curvature.value"
   ]
  },
  {
   "cell_type": "markdown",
   "metadata": {},
   "source": [
    "## Рассчитать напряженность"
   ]
  },
  {
   "cell_type": "code",
   "execution_count": null,
   "metadata": {},
   "outputs": [],
   "source": [
    "stress = Stress.calculate(\n",
    "    curvature=curvature.value,\n",
    "    config=config,\n",
    ")\n",
    "\n",
    "stress.value"
   ]
  }
 ],
 "metadata": {
  "kernelspec": {
   "display_name": "env",
   "language": "python",
   "name": "python3"
  },
  "language_info": {
   "codemirror_mode": {
    "name": "ipython",
    "version": 3
   },
   "file_extension": ".py",
   "mimetype": "text/x-python",
   "name": "python",
   "nbconvert_exporter": "python",
   "pygments_lexer": "ipython3",
   "version": "3.11.6"
  }
 },
 "nbformat": 4,
 "nbformat_minor": 2
}
